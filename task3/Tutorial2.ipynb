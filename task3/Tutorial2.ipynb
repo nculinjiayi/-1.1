{
  "cells": [
    {
      "cell_type": "markdown",
      "id": "792ed7c5-481f-4c04-b453-5a9e88b7122b",
      "metadata": {
        "id": "792ed7c5-481f-4c04-b453-5a9e88b7122b"
      },
      "source": [
        "# LAT Workshop Tutorial #2: EMRIs and LISA Response + TDI"
      ]
    },
    {
      "cell_type": "code",
      "source": [
        "!pip install lisatools\n"
      ],
      "metadata": {
        "id": "wyCcRBQheSHW",
        "outputId": "04439498-ca4d-4712-bb53-62e20d303eae",
        "colab": {
          "base_uri": "https://localhost:8080/"
        }
      },
      "id": "wyCcRBQheSHW",
      "execution_count": 2,
      "outputs": [
        {
          "output_type": "stream",
          "name": "stdout",
          "text": [
            "Collecting lisatools\n",
            "  Downloading lisatools-0.5.1-py3-none-any.whl (11 kB)\n",
            "Requirement already satisfied: beautifulsoup4<5.0.0,>=4.11.1 in /usr/local/lib/python3.10/dist-packages (from lisatools) (4.12.3)\n",
            "Requirement already satisfied: cachetools<6.0.0,>=5.2.1 in /usr/local/lib/python3.10/dist-packages (from lisatools) (5.3.3)\n",
            "Requirement already satisfied: requests<3.0.0,>=2.28.1 in /usr/local/lib/python3.10/dist-packages (from lisatools) (2.31.0)\n",
            "Requirement already satisfied: soupsieve>1.2 in /usr/local/lib/python3.10/dist-packages (from beautifulsoup4<5.0.0,>=4.11.1->lisatools) (2.5)\n",
            "Requirement already satisfied: charset-normalizer<4,>=2 in /usr/local/lib/python3.10/dist-packages (from requests<3.0.0,>=2.28.1->lisatools) (3.3.2)\n",
            "Requirement already satisfied: idna<4,>=2.5 in /usr/local/lib/python3.10/dist-packages (from requests<3.0.0,>=2.28.1->lisatools) (3.7)\n",
            "Requirement already satisfied: urllib3<3,>=1.21.1 in /usr/local/lib/python3.10/dist-packages (from requests<3.0.0,>=2.28.1->lisatools) (2.0.7)\n",
            "Requirement already satisfied: certifi>=2017.4.17 in /usr/local/lib/python3.10/dist-packages (from requests<3.0.0,>=2.28.1->lisatools) (2024.2.2)\n",
            "Installing collected packages: lisatools\n",
            "Successfully installed lisatools-0.5.1\n"
          ]
        }
      ]
    },
    {
      "cell_type": "code",
      "execution_count": 4,
      "id": "c1a285c4-a52e-411e-9a2b-6e6f9120e60e",
      "metadata": {
        "id": "c1a285c4-a52e-411e-9a2b-6e6f9120e60e"
      },
      "outputs": [],
      "source": [
        "import numpy as np\n",
        "import matplotlib.pyplot as plt\n",
        "%matplotlib inline\n",
        "from lisatools import *\n",
        "from copy import deepcopy  # can be useful"
      ]
    },
    {
      "cell_type": "markdown",
      "id": "b36905af-8977-4ab6-a981-9de6008a58a1",
      "metadata": {
        "id": "b36905af-8977-4ab6-a981-9de6008a58a1"
      },
      "source": [
        "In the second tutorial, we will\n",
        "\n",
        "* generate EMRI waveforms,\n",
        "* use tools from our last lesson to estimate EMRI SNRs,\n",
        "* examine changing EMRI trajectories,\n",
        "* add in the LISA response function,\n",
        "* and calculate Likelihoods for EMRIs + Response + Trajectory."
      ]
    },
    {
      "cell_type": "markdown",
      "id": "7722cf58-58bc-4b34-b101-b854390653c1",
      "metadata": {
        "id": "7722cf58-58bc-4b34-b101-b854390653c1"
      },
      "source": [
        "## Task 1: Generate an EMRI Waveform for a typical EMRI"
      ]
    },
    {
      "cell_type": "markdown",
      "id": "ed0349a3-5c18-4e47-b78b-33162bba6db3",
      "metadata": {
        "id": "ed0349a3-5c18-4e47-b78b-33162bba6db3"
      },
      "source": [
        "Generate a relativistic Schwarzschild eccentric EMRI Waveform in the detector frame (use `GenerateEMRIWaveform` class rather than `FastSchwarzschildEccentricFlux`. Choose a set of reasonable parameters.\n",
        "\n",
        "Useful documentation:\n",
        "* [GenerateEMRIWaveform](https://bhptoolkit.org/FastEMRIWaveforms/html/user/main.html#few.waveform.GenerateEMRIWaveform)\n",
        "* [FastSchwarzschildEccentricFlux](https://bhptoolkit.org/FastEMRIWaveforms/html/user/main.html#few.waveform.FastSchwarzschildEccentricFlux)"
      ]
    },
    {
      "cell_type": "code",
      "source": [
        "!pip install few\n"
      ],
      "metadata": {
        "id": "tiWMGmpLelpD",
        "outputId": "cb64c223-eb6f-45b0-8726-015e6c116a3f",
        "colab": {
          "base_uri": "https://localhost:8080/"
        }
      },
      "id": "tiWMGmpLelpD",
      "execution_count": 6,
      "outputs": [
        {
          "output_type": "stream",
          "name": "stdout",
          "text": [
            "Collecting few\n",
            "  Downloading FEW-0.0.51.tar.gz (70 kB)\n",
            "\u001b[?25l     \u001b[90m━━━━━━━━━━━━━━━━━━━━━━━━━━━━━━━━━━━━━━━━\u001b[0m \u001b[32m0.0/70.6 kB\u001b[0m \u001b[31m?\u001b[0m eta \u001b[36m-:--:--\u001b[0m\r\u001b[2K     \u001b[91m━━━━━━━━━━━━━━━━━\u001b[0m\u001b[90m╺\u001b[0m\u001b[90m━━━━━━━━━━━━━━━━━━━━━━\u001b[0m \u001b[32m30.7/70.6 kB\u001b[0m \u001b[31m692.1 kB/s\u001b[0m eta \u001b[36m0:00:01\u001b[0m\r\u001b[2K     \u001b[90m━━━━━━━━━━━━━━━━━━━━━━━━━━━━━━━━━━━━━━━━\u001b[0m \u001b[32m70.6/70.6 kB\u001b[0m \u001b[31m1.1 MB/s\u001b[0m eta \u001b[36m0:00:00\u001b[0m\n",
            "\u001b[?25h  Preparing metadata (setup.py) ... \u001b[?25l\u001b[?25hdone\n",
            "Requirement already satisfied: numpy in /usr/local/lib/python3.10/dist-packages (from few) (1.25.2)\n",
            "Requirement already satisfied: scipy in /usr/local/lib/python3.10/dist-packages (from few) (1.11.4)\n",
            "Requirement already satisfied: pandas in /usr/local/lib/python3.10/dist-packages (from few) (2.0.3)\n",
            "Requirement already satisfied: scikit-learn in /usr/local/lib/python3.10/dist-packages (from few) (1.2.2)\n",
            "Collecting update_checker (from few)\n",
            "  Using cached update_checker-0.18.0-py3-none-any.whl (7.0 kB)\n",
            "Requirement already satisfied: tqdm in /usr/local/lib/python3.10/dist-packages (from few) (4.66.2)\n",
            "Requirement already satisfied: joblib in /usr/local/lib/python3.10/dist-packages (from few) (1.4.0)\n",
            "Collecting DistanceClassifier (from few)\n",
            "  Using cached DistanceClassifier-0.0.8-py3-none-any.whl\n",
            "Collecting scikit-mdr (from few)\n",
            "  Using cached scikit_MDR-0.4.5-py3-none-any.whl (15 kB)\n",
            "Requirement already satisfied: Cython in /usr/local/lib/python3.10/dist-packages (from few) (3.0.10)\n",
            "Collecting eigency (from few)\n",
            "  Using cached eigency-3.4.0.2-cp310-cp310-linux_x86_64.whl\n",
            "Requirement already satisfied: python-dateutil>=2.8.2 in /usr/local/lib/python3.10/dist-packages (from pandas->few) (2.8.2)\n",
            "Requirement already satisfied: pytz>=2020.1 in /usr/local/lib/python3.10/dist-packages (from pandas->few) (2023.4)\n",
            "Requirement already satisfied: tzdata>=2022.1 in /usr/local/lib/python3.10/dist-packages (from pandas->few) (2024.1)\n",
            "Requirement already satisfied: threadpoolctl>=2.0.0 in /usr/local/lib/python3.10/dist-packages (from scikit-learn->few) (3.4.0)\n",
            "Requirement already satisfied: matplotlib in /usr/local/lib/python3.10/dist-packages (from scikit-mdr->few) (3.7.1)\n",
            "Requirement already satisfied: requests>=2.3.0 in /usr/local/lib/python3.10/dist-packages (from update_checker->few) (2.31.0)\n",
            "Requirement already satisfied: six>=1.5 in /usr/local/lib/python3.10/dist-packages (from python-dateutil>=2.8.2->pandas->few) (1.16.0)\n",
            "Requirement already satisfied: charset-normalizer<4,>=2 in /usr/local/lib/python3.10/dist-packages (from requests>=2.3.0->update_checker->few) (3.3.2)\n",
            "Requirement already satisfied: idna<4,>=2.5 in /usr/local/lib/python3.10/dist-packages (from requests>=2.3.0->update_checker->few) (3.7)\n",
            "Requirement already satisfied: urllib3<3,>=1.21.1 in /usr/local/lib/python3.10/dist-packages (from requests>=2.3.0->update_checker->few) (2.0.7)\n",
            "Requirement already satisfied: certifi>=2017.4.17 in /usr/local/lib/python3.10/dist-packages (from requests>=2.3.0->update_checker->few) (2024.2.2)\n",
            "Requirement already satisfied: contourpy>=1.0.1 in /usr/local/lib/python3.10/dist-packages (from matplotlib->scikit-mdr->few) (1.2.1)\n",
            "Requirement already satisfied: cycler>=0.10 in /usr/local/lib/python3.10/dist-packages (from matplotlib->scikit-mdr->few) (0.12.1)\n",
            "Requirement already satisfied: fonttools>=4.22.0 in /usr/local/lib/python3.10/dist-packages (from matplotlib->scikit-mdr->few) (4.51.0)\n",
            "Requirement already satisfied: kiwisolver>=1.0.1 in /usr/local/lib/python3.10/dist-packages (from matplotlib->scikit-mdr->few) (1.4.5)\n",
            "Requirement already satisfied: packaging>=20.0 in /usr/local/lib/python3.10/dist-packages (from matplotlib->scikit-mdr->few) (24.0)\n",
            "Requirement already satisfied: pillow>=6.2.0 in /usr/local/lib/python3.10/dist-packages (from matplotlib->scikit-mdr->few) (9.4.0)\n",
            "Requirement already satisfied: pyparsing>=2.3.1 in /usr/local/lib/python3.10/dist-packages (from matplotlib->scikit-mdr->few) (3.1.2)\n",
            "Building wheels for collected packages: few\n",
            "  Building wheel for few (setup.py) ... \u001b[?25l\u001b[?25hdone\n",
            "  Created wheel for few: filename=FEW-0.0.51-cp310-cp310-linux_x86_64.whl size=362558 sha256=f2660673890720fc802d2577bd994eda43f1e97be82051aea8a37b938b622c97\n",
            "  Stored in directory: /root/.cache/pip/wheels/b2/b2/c8/28b5c1593b72397f404e46f4a5cff4c300fa88022065ce3004\n",
            "Successfully built few\n",
            "Installing collected packages: eigency, update_checker, scikit-mdr, DistanceClassifier, few\n",
            "Successfully installed DistanceClassifier-0.0.8 eigency-3.4.0.2 few-0.0.51 scikit-mdr-0.4.5 update_checker-0.18.0\n"
          ]
        }
      ]
    },
    {
      "cell_type": "code",
      "source": [],
      "metadata": {
        "id": "P3aycuLLfPHv"
      },
      "id": "P3aycuLLfPHv",
      "execution_count": null,
      "outputs": []
    },
    {
      "cell_type": "code",
      "source": [
        "!pip install joblib\n"
      ],
      "metadata": {
        "id": "XeLO5SO7fPG4",
        "outputId": "01b62b60-aa9a-45aa-fdce-65bebc328dd1",
        "colab": {
          "base_uri": "https://localhost:8080/"
        }
      },
      "id": "XeLO5SO7fPG4",
      "execution_count": 8,
      "outputs": [
        {
          "output_type": "stream",
          "name": "stdout",
          "text": [
            "Requirement already satisfied: joblib in /usr/local/lib/python3.10/dist-packages (1.4.0)\n"
          ]
        }
      ]
    },
    {
      "cell_type": "code",
      "source": [
        "!pip install sklearn"
      ],
      "metadata": {
        "id": "H8X2USeEflXw",
        "outputId": "33ff9034-b8ed-4011-e963-fcbc13c07037",
        "colab": {
          "base_uri": "https://localhost:8080/"
        }
      },
      "id": "H8X2USeEflXw",
      "execution_count": 14,
      "outputs": [
        {
          "output_type": "stream",
          "name": "stdout",
          "text": [
            "\u001b[31mERROR: Could not find a version that satisfies the requirement sklearn.externals.joblib (from versions: none)\u001b[0m\u001b[31m\n",
            "\u001b[0m\u001b[31mERROR: No matching distribution found for sklearn.externals.joblib\u001b[0m\u001b[31m\n",
            "\u001b[0m"
          ]
        }
      ]
    },
    {
      "cell_type": "code",
      "source": [],
      "metadata": {
        "id": "82tTRKRegAQA"
      },
      "id": "82tTRKRegAQA",
      "execution_count": null,
      "outputs": []
    },
    {
      "cell_type": "code",
      "source": [],
      "metadata": {
        "id": "gfBBx1QRgAPM"
      },
      "id": "gfBBx1QRgAPM",
      "execution_count": null,
      "outputs": []
    },
    {
      "cell_type": "code",
      "source": [],
      "metadata": {
        "id": "dBY0I9WOgf3K"
      },
      "id": "dBY0I9WOgf3K",
      "execution_count": null,
      "outputs": []
    },
    {
      "cell_type": "code",
      "source": [
        "pip install --upgrade few\n"
      ],
      "metadata": {
        "id": "MYaJ2Ry1gf2b",
        "outputId": "9c3766fb-c362-4f93-a6bc-af22b3b058d6",
        "colab": {
          "base_uri": "https://localhost:8080/"
        }
      },
      "id": "MYaJ2Ry1gf2b",
      "execution_count": 12,
      "outputs": [
        {
          "output_type": "stream",
          "name": "stdout",
          "text": [
            "Requirement already satisfied: few in /usr/local/lib/python3.10/dist-packages (0.0.51)\n",
            "Requirement already satisfied: numpy in /usr/local/lib/python3.10/dist-packages (from few) (1.25.2)\n",
            "Requirement already satisfied: scipy in /usr/local/lib/python3.10/dist-packages (from few) (1.11.4)\n",
            "Requirement already satisfied: pandas in /usr/local/lib/python3.10/dist-packages (from few) (2.0.3)\n",
            "Requirement already satisfied: scikit-learn in /usr/local/lib/python3.10/dist-packages (from few) (1.2.2)\n",
            "Requirement already satisfied: update-checker in /usr/local/lib/python3.10/dist-packages (from few) (0.18.0)\n",
            "Requirement already satisfied: tqdm in /usr/local/lib/python3.10/dist-packages (from few) (4.66.2)\n",
            "Requirement already satisfied: joblib in /usr/local/lib/python3.10/dist-packages (from few) (1.4.0)\n",
            "Requirement already satisfied: DistanceClassifier in /usr/local/lib/python3.10/dist-packages (from few) (0.0.8)\n",
            "Requirement already satisfied: scikit-mdr in /usr/local/lib/python3.10/dist-packages (from few) (0.4.5)\n",
            "Requirement already satisfied: Cython in /usr/local/lib/python3.10/dist-packages (from few) (3.0.10)\n",
            "Requirement already satisfied: eigency in /usr/local/lib/python3.10/dist-packages (from few) (3.4.0.2)\n",
            "Requirement already satisfied: python-dateutil>=2.8.2 in /usr/local/lib/python3.10/dist-packages (from pandas->few) (2.8.2)\n",
            "Requirement already satisfied: pytz>=2020.1 in /usr/local/lib/python3.10/dist-packages (from pandas->few) (2023.4)\n",
            "Requirement already satisfied: tzdata>=2022.1 in /usr/local/lib/python3.10/dist-packages (from pandas->few) (2024.1)\n",
            "Requirement already satisfied: threadpoolctl>=2.0.0 in /usr/local/lib/python3.10/dist-packages (from scikit-learn->few) (3.4.0)\n",
            "Requirement already satisfied: matplotlib in /usr/local/lib/python3.10/dist-packages (from scikit-mdr->few) (3.7.1)\n",
            "Requirement already satisfied: requests>=2.3.0 in /usr/local/lib/python3.10/dist-packages (from update-checker->few) (2.31.0)\n",
            "Requirement already satisfied: six>=1.5 in /usr/local/lib/python3.10/dist-packages (from python-dateutil>=2.8.2->pandas->few) (1.16.0)\n",
            "Requirement already satisfied: charset-normalizer<4,>=2 in /usr/local/lib/python3.10/dist-packages (from requests>=2.3.0->update-checker->few) (3.3.2)\n",
            "Requirement already satisfied: idna<4,>=2.5 in /usr/local/lib/python3.10/dist-packages (from requests>=2.3.0->update-checker->few) (3.7)\n",
            "Requirement already satisfied: urllib3<3,>=1.21.1 in /usr/local/lib/python3.10/dist-packages (from requests>=2.3.0->update-checker->few) (2.0.7)\n",
            "Requirement already satisfied: certifi>=2017.4.17 in /usr/local/lib/python3.10/dist-packages (from requests>=2.3.0->update-checker->few) (2024.2.2)\n",
            "Requirement already satisfied: contourpy>=1.0.1 in /usr/local/lib/python3.10/dist-packages (from matplotlib->scikit-mdr->few) (1.2.1)\n",
            "Requirement already satisfied: cycler>=0.10 in /usr/local/lib/python3.10/dist-packages (from matplotlib->scikit-mdr->few) (0.12.1)\n",
            "Requirement already satisfied: fonttools>=4.22.0 in /usr/local/lib/python3.10/dist-packages (from matplotlib->scikit-mdr->few) (4.51.0)\n",
            "Requirement already satisfied: kiwisolver>=1.0.1 in /usr/local/lib/python3.10/dist-packages (from matplotlib->scikit-mdr->few) (1.4.5)\n",
            "Requirement already satisfied: packaging>=20.0 in /usr/local/lib/python3.10/dist-packages (from matplotlib->scikit-mdr->few) (24.0)\n",
            "Requirement already satisfied: pillow>=6.2.0 in /usr/local/lib/python3.10/dist-packages (from matplotlib->scikit-mdr->few) (9.4.0)\n",
            "Requirement already satisfied: pyparsing>=2.3.1 in /usr/local/lib/python3.10/dist-packages (from matplotlib->scikit-mdr->few) (3.1.2)\n"
          ]
        }
      ]
    },
    {
      "cell_type": "code",
      "execution_count": 13,
      "id": "3271f066-7258-4910-a193-25044bf24bdc",
      "metadata": {
        "id": "3271f066-7258-4910-a193-25044bf24bdc",
        "outputId": "a43beb65-bd63-4ebc-9c7a-7be035512c2f",
        "colab": {
          "base_uri": "https://localhost:8080/",
          "height": 478
        }
      },
      "outputs": [
        {
          "output_type": "error",
          "ename": "ModuleNotFoundError",
          "evalue": "No module named 'sklearn.externals.joblib'",
          "traceback": [
            "\u001b[0;31m---------------------------------------------------------------------------\u001b[0m",
            "\u001b[0;31mModuleNotFoundError\u001b[0m                       Traceback (most recent call last)",
            "\u001b[0;32m<ipython-input-13-916cf9510431>\u001b[0m in \u001b[0;36m<cell line: 2>\u001b[0;34m()\u001b[0m\n\u001b[1;32m      1\u001b[0m \u001b[0;31m# imports\u001b[0m\u001b[0;34m\u001b[0m\u001b[0;34m\u001b[0m\u001b[0m\n\u001b[0;32m----> 2\u001b[0;31m \u001b[0;32mfrom\u001b[0m \u001b[0mfew\u001b[0m\u001b[0;34m.\u001b[0m\u001b[0mwaveform\u001b[0m \u001b[0;32mimport\u001b[0m \u001b[0mGenerateEMRIWaveform\u001b[0m\u001b[0;34m\u001b[0m\u001b[0;34m\u001b[0m\u001b[0m\n\u001b[0m",
            "\u001b[0;32m/usr/local/lib/python3.10/dist-packages/few/__init__.py\u001b[0m in \u001b[0;36m<module>\u001b[0;34m\u001b[0m\n\u001b[1;32m     10\u001b[0m \u001b[0;34m\u001b[0m\u001b[0m\n\u001b[1;32m     11\u001b[0m \u001b[0;32mfrom\u001b[0m \u001b[0;34m.\u001b[0m\u001b[0m_version\u001b[0m \u001b[0;32mimport\u001b[0m \u001b[0m__version__\u001b[0m\u001b[0;34m\u001b[0m\u001b[0;34m\u001b[0m\u001b[0m\n\u001b[0;32m---> 12\u001b[0;31m \u001b[0;32mfrom\u001b[0m \u001b[0;34m.\u001b[0m\u001b[0mfew\u001b[0m \u001b[0;32mimport\u001b[0m \u001b[0mFEW\u001b[0m\u001b[0;34m,\u001b[0m \u001b[0mmain\u001b[0m\u001b[0;34m\u001b[0m\u001b[0;34m\u001b[0m\u001b[0m\n\u001b[0m\u001b[1;32m     13\u001b[0m \u001b[0;31m# from .few import evaluation\u001b[0m\u001b[0;34m\u001b[0m\u001b[0;34m\u001b[0m\u001b[0m\n\u001b[1;32m     14\u001b[0m \u001b[0;31m# from .few import selection\u001b[0m\u001b[0;34m\u001b[0m\u001b[0;34m\u001b[0m\u001b[0m\n",
            "\u001b[0;32m/usr/local/lib/python3.10/dist-packages/few/few.py\u001b[0m in \u001b[0;36m<module>\u001b[0;34m\u001b[0m\n\u001b[1;32m      9\u001b[0m \u001b[0;32mimport\u001b[0m \u001b[0margparse\u001b[0m\u001b[0;34m\u001b[0m\u001b[0;34m\u001b[0m\u001b[0m\n\u001b[1;32m     10\u001b[0m \u001b[0;32mfrom\u001b[0m \u001b[0;34m.\u001b[0m\u001b[0m_version\u001b[0m \u001b[0;32mimport\u001b[0m \u001b[0m__version__\u001b[0m\u001b[0;34m\u001b[0m\u001b[0;34m\u001b[0m\u001b[0m\n\u001b[0;32m---> 11\u001b[0;31m \u001b[0;32mfrom\u001b[0m \u001b[0;34m.\u001b[0m\u001b[0mevaluation\u001b[0m \u001b[0;32mimport\u001b[0m \u001b[0mEvaluationMixin\u001b[0m\u001b[0;34m\u001b[0m\u001b[0;34m\u001b[0m\u001b[0m\n\u001b[0m\u001b[1;32m     12\u001b[0m \u001b[0;32mfrom\u001b[0m \u001b[0;34m.\u001b[0m\u001b[0mpopulation\u001b[0m \u001b[0;32mimport\u001b[0m \u001b[0mPopMixin\u001b[0m\u001b[0;34m,\u001b[0m \u001b[0mnode\u001b[0m\u001b[0;34m\u001b[0m\u001b[0;34m\u001b[0m\u001b[0m\n\u001b[1;32m     13\u001b[0m \u001b[0;32mfrom\u001b[0m \u001b[0;34m.\u001b[0m\u001b[0mvariation\u001b[0m \u001b[0;32mimport\u001b[0m \u001b[0mVariationMixin\u001b[0m\u001b[0;34m\u001b[0m\u001b[0;34m\u001b[0m\u001b[0m\n",
            "\u001b[0;32m/usr/local/lib/python3.10/dist-packages/few/evaluation.py\u001b[0m in \u001b[0;36m<module>\u001b[0;34m\u001b[0m\n\u001b[1;32m     14\u001b[0m \u001b[0;32mfrom\u001b[0m \u001b[0msklearn\u001b[0m\u001b[0;34m.\u001b[0m\u001b[0mmetrics\u001b[0m\u001b[0;34m.\u001b[0m\u001b[0mpairwise\u001b[0m \u001b[0;32mimport\u001b[0m \u001b[0mpairwise_distances\u001b[0m\u001b[0;34m\u001b[0m\u001b[0;34m\u001b[0m\u001b[0m\n\u001b[1;32m     15\u001b[0m \u001b[0;31m# from profilehooks import profile\u001b[0m\u001b[0;34m\u001b[0m\u001b[0;34m\u001b[0m\u001b[0m\n\u001b[0;32m---> 16\u001b[0;31m \u001b[0;32mfrom\u001b[0m \u001b[0msklearn\u001b[0m\u001b[0;34m.\u001b[0m\u001b[0mexternals\u001b[0m\u001b[0;34m.\u001b[0m\u001b[0mjoblib\u001b[0m \u001b[0;32mimport\u001b[0m \u001b[0mParallel\u001b[0m\u001b[0;34m,\u001b[0m \u001b[0mdelayed\u001b[0m\u001b[0;34m\u001b[0m\u001b[0;34m\u001b[0m\u001b[0m\n\u001b[0m\u001b[1;32m     17\u001b[0m \u001b[0;32mfrom\u001b[0m \u001b[0msklearn\u001b[0m\u001b[0;34m.\u001b[0m\u001b[0mfeature_selection\u001b[0m \u001b[0;32mimport\u001b[0m \u001b[0mf_classif\u001b[0m\u001b[0;34m,\u001b[0m \u001b[0mf_regression\u001b[0m\u001b[0;34m\u001b[0m\u001b[0;34m\u001b[0m\u001b[0m\n\u001b[1;32m     18\u001b[0m \u001b[0;31m# safe division\u001b[0m\u001b[0;34m\u001b[0m\u001b[0;34m\u001b[0m\u001b[0m\n",
            "\u001b[0;31mModuleNotFoundError\u001b[0m: No module named 'sklearn.externals.joblib'",
            "",
            "\u001b[0;31m---------------------------------------------------------------------------\u001b[0;32m\nNOTE: If your import is failing due to a missing package, you can\nmanually install dependencies using either !pip or !apt.\n\nTo view examples of installing some common dependencies, click the\n\"Open Examples\" button below.\n\u001b[0;31m---------------------------------------------------------------------------\u001b[0m\n"
          ],
          "errorDetails": {
            "actions": [
              {
                "action": "open_url",
                "actionText": "Open Examples",
                "url": "/notebooks/snippets/importing_libraries.ipynb"
              }
            ]
          }
        }
      ],
      "source": [
        "# imports\n",
        "from few.waveform import GenerateEMRIWaveform"
      ]
    },
    {
      "cell_type": "code",
      "execution_count": null,
      "id": "95c94b92-8a65-4a3f-a50e-ea4d48ba27fb",
      "metadata": {
        "scrolled": true,
        "id": "95c94b92-8a65-4a3f-a50e-ea4d48ba27fb"
      },
      "outputs": [],
      "source": []
    },
    {
      "cell_type": "markdown",
      "id": "c1a7fe5c-5421-4b7d-aab1-7f806f4ce916",
      "metadata": {
        "id": "c1a7fe5c-5421-4b7d-aab1-7f806f4ce916"
      },
      "source": [
        "### Question"
      ]
    },
    {
      "cell_type": "markdown",
      "id": "1cfe0cc2-e92d-4469-b47c-cdb41921fe9a",
      "metadata": {
        "id": "1cfe0cc2-e92d-4469-b47c-cdb41921fe9a"
      },
      "source": [
        "Why does the EMRI waveform look like that? This is obviously a very open-ended question. Try to decipher why the waveform has such a structure in terms of the compact object orbits."
      ]
    },
    {
      "cell_type": "markdown",
      "id": "1f9a1c0a-c95e-4484-8c71-d9e77c325b5a",
      "metadata": {
        "id": "1f9a1c0a-c95e-4484-8c71-d9e77c325b5a"
      },
      "source": [
        "## Task 2: Add the LISA response function"
      ]
    },
    {
      "cell_type": "markdown",
      "id": "10372eda-bacc-48ac-9852-1ccaeadf8806",
      "metadata": {
        "id": "10372eda-bacc-48ac-9852-1ccaeadf8806"
      },
      "source": [
        "When actually building the LISA response function in the time-domain, the edges of the data can be complicated. This is due to the various delays included in the instrument response and Time Delay Interferometry (TDI) transforms. In short, summations between the waveform at the current time and times in the past require that we start our computations a bit after the beginning of observation: if you cannot reach into the past enough (i.e. the delay causes the time to be less than 0.0).\n",
        "\n",
        "Now we will wrap the EMRI waveforms in LISA response using `ResponseWrapper` from `fastlisasresponse`.\n",
        "\n",
        "Useful documentation:\n",
        "* [ResponseWrapper](https://mikekatz04.github.io/lisa-on-gpu/html/user/main.html#fastlisaresponse.response.ResponseWrapper)\n",
        "* [pyResponseTDI](https://mikekatz04.github.io/lisa-on-gpu/html/user/main.html#fastlisaresponse.response.pyResponseTDI)\n",
        "* [EqualArmlengthOrbits](https://mikekatz04.github.io/LISAanalysistools/build/html/user/main.html#lisatools.detector.EqualArmlengthOrbits)"
      ]
    },
    {
      "cell_type": "code",
      "execution_count": null,
      "id": "17b5fce6-4130-4ac3-b293-4b322808db57",
      "metadata": {
        "id": "17b5fce6-4130-4ac3-b293-4b322808db57"
      },
      "outputs": [],
      "source": [
        "# imports\n",
        "from fastlisaresponse import ResponseWrapper\n",
        "from lisatools.detector import EqualArmlengthOrbits"
      ]
    },
    {
      "cell_type": "code",
      "execution_count": null,
      "id": "38e89e3e-9a5f-44f9-aa22-a297b5ade4e5",
      "metadata": {
        "id": "38e89e3e-9a5f-44f9-aa22-a297b5ade4e5"
      },
      "outputs": [],
      "source": []
    },
    {
      "cell_type": "markdown",
      "id": "e8659b5f-12a5-437a-9461-a759163d94dd",
      "metadata": {
        "id": "e8659b5f-12a5-437a-9461-a759163d94dd"
      },
      "source": [
        "### Question"
      ]
    },
    {
      "cell_type": "markdown",
      "id": "c9bfeea3-22c6-46b6-8029-b704593c4421",
      "metadata": {
        "id": "c9bfeea3-22c6-46b6-8029-b704593c4421"
      },
      "source": [
        "With a long-enough observation time, you will see a new envelope structure to the waveforms when the response is added. Why is that?"
      ]
    },
    {
      "cell_type": "markdown",
      "id": "e6736cda-5b97-4860-a49e-b2353ef60ae7",
      "metadata": {
        "id": "e6736cda-5b97-4860-a49e-b2353ef60ae7"
      },
      "source": [
        "If you want to use `ResponseWrapper` with another type of waveform, the above cells are how you do that. If you want to use `GenerateEMRIWaveform` and `ResponseWrapper` together, you can use the stock model from LISA Analysis Tools: [EMRITDIWaveform](https://mikekatz04.github.io/LISAanalysistools/build/html/user/sources.html#lisatools.sources.emri.EMRITDIWaveform). With this class, you do not have to set any choices. In this case, it will set it up with all defaults. Generate the same waveform above but now with the new class.\n",
        "\n",
        "Documentation:\n",
        "* [EMRITDIWaveform](https://mikekatz04.github.io/LISAanalysistools/build/html/user/sources.html#lisatools.sources.emri.EMRITDIWaveform)"
      ]
    },
    {
      "cell_type": "code",
      "execution_count": null,
      "id": "591a09c0-892e-4416-a717-9bce30d7d5d7",
      "metadata": {
        "id": "591a09c0-892e-4416-a717-9bce30d7d5d7"
      },
      "outputs": [],
      "source": [
        "# imports\n",
        "from lisatools.sources.emri import EMRITDIWaveform"
      ]
    },
    {
      "cell_type": "code",
      "execution_count": null,
      "id": "21685d34-672d-4ece-afa4-ac2afa92065f",
      "metadata": {
        "id": "21685d34-672d-4ece-afa4-ac2afa92065f"
      },
      "outputs": [],
      "source": []
    },
    {
      "cell_type": "markdown",
      "id": "daa84b0f-624c-49b8-87bf-5bd56a2a5af1",
      "metadata": {
        "id": "daa84b0f-624c-49b8-87bf-5bd56a2a5af1"
      },
      "source": [
        "## Task 3: Calculate SNR, inner product, and Likelihood"
      ]
    },
    {
      "cell_type": "markdown",
      "id": "99569ddc-3368-43c6-8e93-9c7fc57f9da8",
      "metadata": {
        "id": "99569ddc-3368-43c6-8e93-9c7fc57f9da8"
      },
      "source": [
        "Now we will combine our knowledge from tutorials 1 and 2 to calculate the SNR, inner product, and Likelihood for an EMRI."
      ]
    },
    {
      "cell_type": "markdown",
      "id": "5ff3d7ba-eb04-4101-b12b-d3c62a852d8b",
      "metadata": {
        "id": "5ff3d7ba-eb04-4101-b12b-d3c62a852d8b"
      },
      "source": [
        "Let's start by generating our data for *just* the A and E channels (do not worry about T for now). Be careful, make sure when using `EMRITDIWaveform`, you initialize with the keyword argument `response_kwargs=dict(tdi_chan=\"AE\")` to remove the T channel. Fill a [DataResidualArray](https://mikekatz04.github.io/LISAanalysistools/build/html/user/datacontainer.html#lisatools.datacontainer.DataResidualArray) with the data. Plot it if you would like."
      ]
    },
    {
      "cell_type": "code",
      "execution_count": null,
      "id": "f508ca56-b357-4d99-982b-8f5ba3f29775",
      "metadata": {
        "id": "f508ca56-b357-4d99-982b-8f5ba3f29775"
      },
      "outputs": [],
      "source": [
        "from lisatools.datacontainer import DataResidualArray"
      ]
    },
    {
      "cell_type": "code",
      "execution_count": null,
      "id": "44bca3f4-dcca-4844-99aa-082e15c82f09",
      "metadata": {
        "scrolled": true,
        "id": "44bca3f4-dcca-4844-99aa-082e15c82f09"
      },
      "outputs": [],
      "source": []
    },
    {
      "cell_type": "markdown",
      "id": "154aa449-2b16-43fb-81c1-8445e2ce0ac8",
      "metadata": {
        "id": "154aa449-2b16-43fb-81c1-8445e2ce0ac8"
      },
      "source": [
        "Setup the sensitivity matrix: [AE1SensitivityMatrix](https://mikekatz04.github.io/LISAanalysistools/build/html/user/sensitivity.html#lisatools.sensitivity.AE1SensitivityMatrix)"
      ]
    },
    {
      "cell_type": "code",
      "execution_count": null,
      "id": "8bf16d8b-6214-4d85-9a3c-74226e86fa9f",
      "metadata": {
        "id": "8bf16d8b-6214-4d85-9a3c-74226e86fa9f"
      },
      "outputs": [],
      "source": [
        "from lisatools.sensitivity import AE1SensitivityMatrix"
      ]
    },
    {
      "cell_type": "markdown",
      "id": "f9dc6808-83be-464f-b1d1-13b80c6ea2fb",
      "metadata": {
        "id": "f9dc6808-83be-464f-b1d1-13b80c6ea2fb"
      },
      "source": [
        "Now pack them both into the [AnalysisContainer](https://mikekatz04.github.io/LISAanalysistools/build/html/user/datacontainer.html#lisatools.analysiscontainer.AnalysisContainer) and calculate the SNR of the injection data."
      ]
    },
    {
      "cell_type": "code",
      "execution_count": null,
      "id": "a6733f75-df18-4414-902c-fea8f5ac6a4b",
      "metadata": {
        "id": "a6733f75-df18-4414-902c-fea8f5ac6a4b"
      },
      "outputs": [],
      "source": [
        "from lisatools.analysiscontainer import AnalysisContainer"
      ]
    },
    {
      "cell_type": "code",
      "execution_count": null,
      "id": "534e6041-e561-4a62-a26f-c7ece6b094b9",
      "metadata": {
        "id": "534e6041-e561-4a62-a26f-c7ece6b094b9"
      },
      "outputs": [],
      "source": []
    },
    {
      "cell_type": "markdown",
      "id": "46604a3e-31ee-4bd7-8295-0399126f458d",
      "metadata": {
        "id": "46604a3e-31ee-4bd7-8295-0399126f458d"
      },
      "source": [
        "Now, let's calculate the Likelihood using `AnalysisContainer.calculate_signal_likelihood`. This allows us to compare another EMRI signal to our injection. Start by injecting a source with the correct injection parameters. What is the Likelihood here? Now change the source parameters slightly one at a time and observe how the Likelihood changes. This can give you a sense of the complicated multidimensional Likelihood surface which we wish to learn. Since we are fixing the sensitivity for now, add the `source_only=False` keyword argument."
      ]
    },
    {
      "cell_type": "code",
      "execution_count": null,
      "id": "85c86857-aba9-410f-b342-3f899bf1b3e6",
      "metadata": {
        "id": "85c86857-aba9-410f-b342-3f899bf1b3e6"
      },
      "outputs": [],
      "source": []
    },
    {
      "cell_type": "markdown",
      "id": "d7659f73-cc53-4cd3-844e-6a67b7809056",
      "metadata": {
        "id": "d7659f73-cc53-4cd3-844e-6a67b7809056"
      },
      "source": [
        "## Task 4: Determine 1$\\sigma$ width in 1-dimension using the Likelihood"
      ]
    },
    {
      "cell_type": "markdown",
      "id": "cbab4615-1762-4577-ba7a-d00636a23a85",
      "metadata": {
        "id": "cbab4615-1762-4577-ba7a-d00636a23a85"
      },
      "source": [
        "In one dimension, the 1$\\sigma$ Likelihood width can be determined by solving $\\log{\\mathcal{L(\\vec{\\theta})}} = -1$. Using a loop, plot the Likelihood versus one parameter you decide to change. Make sure the Likelihoods are all of order $\\sim1$, so close to the true value. To make sure this works as an example, it is advisable to use just one mode by setting `waveform_kwargs=dict(mode=[(2, 2, 0)]` (you can use any mode)."
      ]
    },
    {
      "cell_type": "code",
      "execution_count": null,
      "id": "85b3ba6a-59af-48c4-bc83-65f58b9ce6a9",
      "metadata": {
        "id": "85b3ba6a-59af-48c4-bc83-65f58b9ce6a9"
      },
      "outputs": [],
      "source": []
    },
    {
      "cell_type": "markdown",
      "id": "3352a471-a218-43ee-8219-4aa1b03134ea",
      "metadata": {
        "id": "3352a471-a218-43ee-8219-4aa1b03134ea"
      },
      "source": [
        "Use whatever method you prefer to determine the $1\\sigma$ width. You can eyeball it or use plotting. We are just estimating the value for now."
      ]
    },
    {
      "cell_type": "code",
      "execution_count": null,
      "id": "c039f64d-635c-455d-b4a6-3bed0a66876e",
      "metadata": {
        "id": "c039f64d-635c-455d-b4a6-3bed0a66876e"
      },
      "outputs": [],
      "source": []
    },
    {
      "cell_type": "markdown",
      "id": "7a8c5c63-af6f-44e1-b63f-7124626c6c1d",
      "metadata": {
        "id": "7a8c5c63-af6f-44e1-b63f-7124626c6c1d"
      },
      "source": [
        "## Task 5: analyze a GR modification or environmental effect"
      ]
    },
    {
      "cell_type": "markdown",
      "id": "bbdd2fa4-e2fe-4f0c-b13f-996eb556f2d1",
      "metadata": {
        "id": "bbdd2fa4-e2fe-4f0c-b13f-996eb556f2d1"
      },
      "source": [
        "Now we will look at a very useful aspect of `few`: testing beyond-GR or environmental effects by adding terms to the Trajectory. Here, we will use a modified trajectory that we have already put together for you. The modificiation is `pdot = pdot * (1 + mod)` and `edot = edot * (1 + mod)`.\n",
        "\n",
        "It is imported below (`ModifiedPnTrajectory`). It is a basic PN trajectory in the Schwarzschild eccentric limit. This is effectively lifted from the `few` tutorial (adding the GR modification). For the amplitude module, use `Interp2DAmplitude` and for the summation use `InterpolatedModeSum`. **Hint**: You are created a class object that inherits `SchwarzschildEccentricWaveformBase` and initializes it with the proper modules. See the tutorial. It does this exactly.\n",
        "\n",
        "Documentation:\n",
        "* [SchwarzschildEccentricWaveformBase](https://bhptoolkit.org/FastEMRIWaveforms/html/user/main.html#few.waveform.SchwarzschildEccentricWaveformBase)\n",
        "* [Make waveform tutorial](https://bhptoolkit.org/FastEMRIWaveforms/html/tutorial/FastEMRIWaveforms_tutorial.html#Make-a-waveform-model)"
      ]
    },
    {
      "cell_type": "code",
      "execution_count": null,
      "id": "35e5d4e7-5d39-4f92-b2b6-06cb2e3aadaf",
      "metadata": {
        "id": "35e5d4e7-5d39-4f92-b2b6-06cb2e3aadaf"
      },
      "outputs": [],
      "source": [
        "from pnbeyondGR_example import ModifiedPnTrajectory\n",
        "from few.amplitude.interp2dcubicspline import Interp2DAmplitude\n",
        "from few.waveform import SchwarzschildEccentricWaveformBase\n",
        "from few.summation.interpolatedmodesum import InterpolatedModeSum\n",
        "from few.trajectory.inspiral import EMRIInspiral"
      ]
    },
    {
      "cell_type": "markdown",
      "id": "fae034cb-f048-45c2-89b8-f04b3af7eceb",
      "metadata": {
        "id": "fae034cb-f048-45c2-89b8-f04b3af7eceb"
      },
      "source": [
        "Create the waveform generator class to start. Look at the FEW tutorial. It has an exact [example](https://bhptoolkit.org/FastEMRIWaveforms/html/tutorial/FastEMRIWaveforms_tutorial.html#Make-a-waveform-model) of how to do this."
      ]
    },
    {
      "cell_type": "code",
      "execution_count": null,
      "id": "16c4debd-c993-4aaa-9a83-6a37c923c6df",
      "metadata": {
        "id": "16c4debd-c993-4aaa-9a83-6a37c923c6df"
      },
      "outputs": [],
      "source": []
    },
    {
      "cell_type": "markdown",
      "id": "af891a53-a64e-4b82-8303-5365d24f5795",
      "metadata": {
        "id": "af891a53-a64e-4b82-8303-5365d24f5795"
      },
      "source": [
        "Now use `EMRITDIWaveform` to create a full TDI version of this waveform. **Hint**: use the `emri_waveform_args` keyword argument for the EMRITDIWaveform. Also, use just the A and E channels. Supply the `response_kwargs` keyword argument to specify this. Build the injection waveforms and place them in a `DataResidualArray`. Then, fill an `AnalysisContainer` with the sensitivity matrix, data, and signal generator as we have done before. **Hint**: the modification parameter will be added as the last parameter."
      ]
    },
    {
      "cell_type": "code",
      "execution_count": null,
      "id": "046ba39e-92dc-4166-9bfc-f3ea5e8a203e",
      "metadata": {
        "scrolled": true,
        "id": "046ba39e-92dc-4166-9bfc-f3ea5e8a203e"
      },
      "outputs": [],
      "source": []
    },
    {
      "cell_type": "markdown",
      "id": "cb741a16-5aa3-4d95-8370-eba3fea2f7a7",
      "metadata": {
        "id": "cb741a16-5aa3-4d95-8370-eba3fea2f7a7"
      },
      "source": [
        "Now do some basic calculations (Likelihood, overlap, etc.) to understand how the added effect changes our waveform. **Hint**: you can get the overlap by calculating the inner product with the keyword argument `normalize=True`."
      ]
    },
    {
      "cell_type": "code",
      "execution_count": null,
      "id": "24f74051-76c8-4876-a154-d6fdbc6eeac3",
      "metadata": {
        "id": "24f74051-76c8-4876-a154-d6fdbc6eeac3"
      },
      "outputs": [],
      "source": []
    }
  ],
  "metadata": {
    "kernelspec": {
      "display_name": "Python 3",
      "name": "python3"
    },
    "language_info": {
      "codemirror_mode": {
        "name": "ipython",
        "version": 3
      },
      "file_extension": ".py",
      "mimetype": "text/x-python",
      "name": "python",
      "nbconvert_exporter": "python",
      "pygments_lexer": "ipython3",
      "version": "3.12.1"
    },
    "colab": {
      "provenance": [],
      "gpuType": "T4"
    },
    "accelerator": "GPU"
  },
  "nbformat": 4,
  "nbformat_minor": 5
}